{
 "cells": [
  {
   "cell_type": "markdown",
   "id": "44f8e493",
   "metadata": {},
   "source": [
    "* Code for converting hand points into usable format\n",
    "* Also creating small circle around hand landmarks"
   ]
  },
  {
   "cell_type": "code",
   "execution_count": 1,
   "id": "685dc265",
   "metadata": {
    "ExecuteTime": {
     "end_time": "2021-06-11T13:10:02.112359Z",
     "start_time": "2021-06-11T13:09:46.503783Z"
    }
   },
   "outputs": [],
   "source": [
    "import cv2\n",
    "import mediapipe as mp\n",
    "\n",
    "mp_drawing = mp.solutions.drawing_utils\n",
    "mp_hands = mp.solutions.hands\n",
    "hands = mp_hands.Hands()\n",
    "\n",
    "cap = cv2.VideoCapture(0)\n",
    "\n",
    "while cap.isOpened():\n",
    "    success, img = cap.read()\n",
    "    imgRGB = cv2.cvtColor(img, cv2.COLOR_BGR2RGB)\n",
    "    results = hands.process(imgRGB)\n",
    "    \n",
    "    if results.multi_hand_landmarks:\n",
    "        for hand_landmarks in results.multi_hand_landmarks:\n",
    "            \n",
    "            ##################################################################\n",
    "            \n",
    "            # Converting hand points for usable format\n",
    "            \n",
    "            for id, ldmrk in enumerate(hand_landmarks.landmark):\n",
    "                h, w, c = img.shape # -> h = 480, w = 640, c = 3\n",
    "                cx, cy = int(ldmrk.x * w), int(ldmrk.y * h)\n",
    "                cv2.circle(img, (cx, cy), 10, (226, 226, 226), cv2.FILLED)\n",
    "            \n",
    "            ##################################################################\n",
    "                \n",
    "            mp_drawing.draw_landmarks(img, hand_landmarks, mp_hands.HAND_CONNECTIONS)\n",
    "        \n",
    "    cv2.imshow('MediaPipe Hands', img)\n",
    "    cv2.waitKey(1)\n",
    "    if cv2.getWindowProperty('MediaPipe Hands', 4) < 1:\n",
    "        break\n",
    "        \n",
    "cap.release()"
   ]
  },
  {
   "cell_type": "code",
   "execution_count": null,
   "id": "a652c686",
   "metadata": {},
   "outputs": [],
   "source": []
  }
 ],
 "metadata": {
  "kernelspec": {
   "display_name": "Python 3",
   "language": "python",
   "name": "python3"
  },
  "language_info": {
   "codemirror_mode": {
    "name": "ipython",
    "version": 3
   },
   "file_extension": ".py",
   "mimetype": "text/x-python",
   "name": "python",
   "nbconvert_exporter": "python",
   "pygments_lexer": "ipython3",
   "version": "3.8.8"
  },
  "varInspector": {
   "cols": {
    "lenName": 16,
    "lenType": 16,
    "lenVar": 40
   },
   "kernels_config": {
    "python": {
     "delete_cmd_postfix": "",
     "delete_cmd_prefix": "del ",
     "library": "var_list.py",
     "varRefreshCmd": "print(var_dic_list())"
    },
    "r": {
     "delete_cmd_postfix": ") ",
     "delete_cmd_prefix": "rm(",
     "library": "var_list.r",
     "varRefreshCmd": "cat(var_dic_list()) "
    }
   },
   "types_to_exclude": [
    "module",
    "function",
    "builtin_function_or_method",
    "instance",
    "_Feature"
   ],
   "window_display": false
  }
 },
 "nbformat": 4,
 "nbformat_minor": 5
}
