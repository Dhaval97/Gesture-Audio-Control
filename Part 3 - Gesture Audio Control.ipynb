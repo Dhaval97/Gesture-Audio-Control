{
 "cells": [
  {
   "cell_type": "markdown",
   "id": "ab3da61d",
   "metadata": {},
   "source": [
    "# MediaPipe Hand"
   ]
  },
  {
   "cell_type": "markdown",
   "id": "06afc68c",
   "metadata": {},
   "source": [
    "### To demonstrate Audio Control of the device using Hand Gesture control"
   ]
  },
  {
   "cell_type": "code",
   "execution_count": 1,
   "id": "266a23a6",
   "metadata": {
    "ExecuteTime": {
     "end_time": "2021-06-11T13:15:22.167414Z",
     "start_time": "2021-06-11T13:14:31.501670Z"
    },
    "scrolled": true
   },
   "outputs": [],
   "source": [
    "import cv2\n",
    "import mediapipe as mp\n",
    "\n",
    "import numpy as np\n",
    "import math\n",
    "\n",
    "from ctypes import cast, POINTER\n",
    "from comtypes import CLSCTX_ALL\n",
    "from pycaw.pycaw import AudioUtilities, IAudioEndpointVolume\n",
    "\n",
    "static_image_mode = False\n",
    "max_num_hands = 1\n",
    "min_detection_confidence = 0.7\n",
    "min_tracking_confidence = 0.7\n",
    "\n",
    "mp_drawing = mp.solutions.drawing_utils\n",
    "mp_hands = mp.solutions.hands\n",
    "hands = mp_hands.Hands(static_image_mode, max_num_hands, min_detection_confidence, min_tracking_confidence)\n",
    "\n",
    "cap = cv2.VideoCapture(0)\n",
    "\n",
    "# Audio Variables\n",
    "devices = AudioUtilities.GetSpeakers()\n",
    "interface = devices.Activate(IAudioEndpointVolume._iid_, CLSCTX_ALL, None)\n",
    "volume = cast(interface, POINTER(IAudioEndpointVolume))\n",
    "# volume.GetMute()\n",
    "# volume.GetMasterVolumeLevel()\n",
    "volRange = volume.GetVolumeRange()\n",
    "minVol = volRange[0]\n",
    "maxVol = volRange[1]\n",
    "vol = 0\n",
    "volBar = 400\n",
    "volPer = 0\n",
    "\n",
    "while cap.isOpened():\n",
    "    success, img = cap.read()\n",
    "    imgRGB = cv2.cvtColor(img, cv2.COLOR_BGR2RGB)\n",
    "    results = hands.process(imgRGB)\n",
    "    \n",
    "    ldmark_list = []\n",
    "    \n",
    "    if results.multi_hand_landmarks:\n",
    "        for hand_landmarks in results.multi_hand_landmarks:\n",
    "            for id, ldmrk in enumerate(hand_landmarks.landmark):\n",
    "                h, w, c = img.shape # -> h = 480, w = 640, c = 3\n",
    "                cx, cy = int(ldmrk.x * w), int(ldmrk.y * h)\n",
    "                ldmark_list.append([id, cx, cy])\n",
    "                # cv2.circle(img, (cx, cy), 10, (226, 226, 226), cv2.FILLED)\n",
    "                \n",
    "            mp_drawing.draw_landmarks(img, hand_landmarks, mp_hands.HAND_CONNECTIONS)\n",
    "    \n",
    "    if len(ldmark_list) != 0:\n",
    "        x1, y1 = ldmark_list[4][1], ldmark_list[4][2]\n",
    "        x2, y2 = ldmark_list[12][1], ldmark_list[12][2]\n",
    "        cx, cy = (x1 + x2) // 2, (y1 + y2) // 2\n",
    " \n",
    "        length = math.hypot(x2 - x1, y2 - y1)\n",
    " \n",
    "        vol = np.interp(length, [30, 150], [minVol, maxVol])\n",
    "        volBar = np.interp(length, [30, 150], [400, 150])\n",
    "        volume.SetMasterVolumeLevel(vol, None)\n",
    "        \n",
    "    cv2.rectangle(img, (50, 150), (85, 400), (255, 0, 0), 3)\n",
    "    cv2.rectangle(img, (50, int(volBar)), (85, 400), (255, 0, 0), cv2.FILLED)\n",
    "    \n",
    "    cv2.imshow('MediaPipe Hands', img)\n",
    "    cv2.waitKey(1)\n",
    "    if cv2.getWindowProperty('MediaPipe Hands', 4) < 1:\n",
    "        break\n",
    "        \n",
    "cap.release()"
   ]
  },
  {
   "cell_type": "code",
   "execution_count": null,
   "id": "d2e3f9af",
   "metadata": {},
   "outputs": [],
   "source": []
  }
 ],
 "metadata": {
  "kernelspec": {
   "display_name": "Python 3",
   "language": "python",
   "name": "python3"
  },
  "language_info": {
   "codemirror_mode": {
    "name": "ipython",
    "version": 3
   },
   "file_extension": ".py",
   "mimetype": "text/x-python",
   "name": "python",
   "nbconvert_exporter": "python",
   "pygments_lexer": "ipython3",
   "version": "3.8.8"
  },
  "varInspector": {
   "cols": {
    "lenName": 16,
    "lenType": 16,
    "lenVar": 40
   },
   "kernels_config": {
    "python": {
     "delete_cmd_postfix": "",
     "delete_cmd_prefix": "del ",
     "library": "var_list.py",
     "varRefreshCmd": "print(var_dic_list())"
    },
    "r": {
     "delete_cmd_postfix": ") ",
     "delete_cmd_prefix": "rm(",
     "library": "var_list.r",
     "varRefreshCmd": "cat(var_dic_list()) "
    }
   },
   "types_to_exclude": [
    "module",
    "function",
    "builtin_function_or_method",
    "instance",
    "_Feature"
   ],
   "window_display": false
  }
 },
 "nbformat": 4,
 "nbformat_minor": 5
}
